{
 "cells": [
  {
   "cell_type": "markdown",
   "id": "65c3c007",
   "metadata": {},
   "source": [
    "Автор: Лейман М.А.   \n",
    "Дата создания: 12.06.2025  \n"
   ]
  },
  {
   "cell_type": "markdown",
   "id": "0613b98a",
   "metadata": {},
   "source": [
    "# 1. Обработка датасета UAVOD10 \n",
    "\n",
    "### Классы датасета   \n",
    "'building': 0,      \t\tздание  \n",
    "'cable-tower': 1, \t\tкабельная вышка  \n",
    "'cultivation-mesh-cage': 2,  \tсетка для выращивания  \n",
    "'landslide': 3, \t\tоползень  \n",
    "'pool': 4, \t\t\tбассейн  \n",
    "'prefabricated-house': 5, \tсборный-дом\"  \n",
    "'quarry': 6,\t\t\tкарьер  \n",
    "'ship': 7, \t\t\tкорабль  \n",
    "'vehicle': 8,\t\t\tтранспортное средство  \n",
    "'well': 9\t\t\tколодец  "
   ]
  },
  {
   "cell_type": "markdown",
   "id": "1cff54eb",
   "metadata": {},
   "source": [
    "## Преобразование датасета в формат YOLO"
   ]
  },
  {
   "cell_type": "code",
   "execution_count": null,
   "id": "136960b5",
   "metadata": {},
   "outputs": [],
   "source": [
    "from glob import glob\n",
    "import os, random, glob, shutil, math\n",
    "import cv2\n",
    "import numpy as np\n",
    "from typing import List, Tuple\n",
    "\n",
    "\n",
    "import preprocess\n",
    "import importlib\n",
    "importlib.reload(preprocess)  # Обновляет при каждом запуске\n",
    "\n",
    "from preprocess import convert_voc_to_yolo, count_objects_by_class, cleaned1, find_images_with_class, splitting_dataset, mix_img, generate_crops_for_dataset, convert_to_yolo, convert_gpg1"
   ]
  },
  {
   "cell_type": "code",
   "execution_count": 3,
   "id": "7e15a0b0",
   "metadata": {},
   "outputs": [
    {
     "name": "stdout",
     "output_type": "stream",
     "text": [
      "Текущая папка: /home/maksim/develops/python/Zala_task/Zala_task\n",
      "Датасет:       /home/maksim/develops/python/Zala_task/Zala_task/dataset\n",
      "Таргет:        /home/maksim/develops/python/Zala_task/Zala_task/dataset/dataset_UAVOD/datasets_original/target/\n",
      "Изображения:   /home/maksim/develops/python/Zala_task/Zala_task/dataset/dataset_UAVOD/datasets_original/image/\n",
      "Таргет YOLO:   /home/maksim/develops/python/Zala_task/Zala_task/dataset/dataset_UAVOD/datasets_original/target_yolo/\n"
     ]
    }
   ],
   "source": [
    "# Получаем текущую рабочую папку  \n",
    "current_directory = os.getcwd()  \n",
    "\n",
    "path_dataset = os.path.join(current_directory, \"dataset\")\n",
    "\n",
    "target_original = 'dataset_UAVOD/datasets_original/target/'    # таргеты XML\n",
    "xml_dir = os.path.join(path_dataset, target_original)  \n",
    "\n",
    "image_original = 'dataset_UAVOD/datasets_original/image/'    # Исходные изображения\n",
    "image_dir = os.path.join(path_dataset, image_original)  \n",
    "\n",
    "target_yolo_original = 'dataset_UAVOD/datasets_original/target_yolo/'    # YOLO разметка\n",
    "output_txt_dir = os.path.join(path_dataset, target_yolo_original) \n",
    "\n",
    "print(\"Текущая папка:\", current_directory)  \n",
    "print(\"Датасет:      \", path_dataset)  \n",
    "print(\"Таргет:       \", xml_dir)  \n",
    "print(\"Изображения:  \", image_dir)  \n",
    "print(\"Таргет YOLO:  \", output_txt_dir)  \n"
   ]
  },
  {
   "cell_type": "code",
   "execution_count": null,
   "id": "5439d31a",
   "metadata": {},
   "outputs": [],
   "source": [
    "def convert_annotation(output_txt_dir):\n",
    "    # Названия классов\n",
    "    class_names = [\"building\", \"cultivation-mesh-cage\", \"landslide\",\n",
    "               \"pool\", \"prefabricated-house\", \"quarry\", \"ship\", \"vehicle\", \"well\"]\n",
    "    # Обрабатываем все XML\n",
    "    for xml_file in os.listdir(xml_dir):\n",
    "        os.makedirs(output_txt_dir, exist_ok=True)\n",
    "        if xml_file.endswith(\".xml\"):\n",
    "            convert_voc_to_yolo(os.path.join(xml_dir, xml_file), output_txt_dir, class_names)\n",
    "\n",
    "    print(\"Конвертация завершена!\")\n",
    "\n",
    "# convert_annotation(output_txt_dir)  "
   ]
  },
  {
   "cell_type": "markdown",
   "id": "ca402680",
   "metadata": {},
   "source": [
    "### Количество объектов по классам"
   ]
  },
  {
   "cell_type": "code",
   "execution_count": 7,
   "id": "53c5d7c6",
   "metadata": {},
   "outputs": [
    {
     "name": "stdout",
     "output_type": "stream",
     "text": [
      "Количество объектов по классам:\n",
      "Класс 0: 12662 объектов\n",
      "Класс 2: 263 объектов\n",
      "Класс 3: 40 объектов\n",
      "Класс 4: 49 объектов\n",
      "Класс 5: 2027 объектов\n",
      "Класс 6: 83 объектов\n",
      "Класс 7: 771 объектов\n",
      "Класс 8: 466 объектов\n",
      "Класс 9: 677 объектов\n"
     ]
    }
   ],
   "source": [
    "\n",
    "path = output_txt_dir\n",
    "count_objects_by_class(path)"
   ]
  },
  {
   "cell_type": "markdown",
   "id": "d8a1f42d",
   "metadata": {},
   "source": [
    "###  Работа с классами  \n",
    "объединение классов,  удаление лишних классов, переименование классов   "
   ]
  },
  {
   "cell_type": "code",
   "execution_count": null,
   "id": "7ed9714f",
   "metadata": {},
   "outputs": [],
   "source": [
    "# ===============    Словарь  классов для переименования\n",
    "class_map = {\n",
    "    533: 0,\n",
    "}\n",
    "\n",
    "# =======================     Классы, которые удаляем \n",
    "remove_classes = {3, 4, 6}\n",
    "input_dir = \"dataset_full_3/labels/train/\"\n",
    "\n",
    "# cleaned1(class_map, remove_classes, input_dir, path_dataset)"
   ]
  },
  {
   "cell_type": "code",
   "execution_count": 12,
   "id": "c9049499",
   "metadata": {},
   "outputs": [
    {
     "name": "stdout",
     "output_type": "stream",
     "text": [
      "Количество объектов по классам:\n",
      "Класс 0: 15570 объектов\n",
      "Класс 2: 272 объектов\n",
      "Класс 3: 1 объектов\n",
      "Класс 4: 745 объектов\n",
      "Класс 6: 567 объектов\n",
      "Класс 7: 805 объектов\n"
     ]
    }
   ],
   "source": [
    "input_dir = \"dataset_UAVOD/dataset_orign_2/target/\"\n",
    "path = os.path.join(path_dataset, input_dir)\n",
    "count_objects_by_class(path)"
   ]
  },
  {
   "cell_type": "code",
   "execution_count": 4,
   "id": "e7d7c1a5",
   "metadata": {},
   "outputs": [
    {
     "name": "stdout",
     "output_type": "stream",
     "text": [
      "Найдено 1 изображений с классом 3:\n",
      "278.jpg\n"
     ]
    }
   ],
   "source": [
    "#  поиск изображений с определёнными классами\n",
    "\n",
    "label_dir = \"/home/maksim/develops/python/devsTraining/zala_task/dataset/dataset_UAVOD/dataset_orign_2/target/\"\n",
    "target_class = 3\n",
    "files = find_images_with_class(label_dir, target_class)\n",
    "\n",
    "print(f\"Найдено {len(files)} изображений с классом {target_class}:\")\n",
    "for f in files:\n",
    "    print(f)"
   ]
  },
  {
   "cell_type": "markdown",
   "id": "c237b35e",
   "metadata": {},
   "source": [
    "### разделение датасета"
   ]
  },
  {
   "cell_type": "code",
   "execution_count": null,
   "id": "34c4af61",
   "metadata": {},
   "outputs": [],
   "source": [
    "output_base_dir = \"dataset/dataset_UAVOD/datasets_split\"\n",
    "image_original = 'dataset_UAVOD/dataset_orign_2/image/'    # Исходные изображения\n",
    "images_path = os.path.join(path_dataset, image_original)  \n",
    "\n",
    "target_yolo_original = 'dataset_UAVOD/dataset_orign_2/target/'   \n",
    "labels_path = os.path.join(path_dataset, target_yolo_original) \n",
    "\n",
    "# splitting_dataset(image_dir=images_path, label_dir=labels_path, output_base_dir=output_base_dir, train_ratio=0.7, val_ratio=0.2, test_ratio=0.1)\n"
   ]
  },
  {
   "cell_type": "markdown",
   "id": "c50fa515",
   "metadata": {},
   "source": [
    "## Преобразование датасета \n",
    "\n",
    "Из исходных изображений (больших)  вырезаются квадратные изображения с шагом  и объединяются с исходным датасетом. \n"
   ]
  },
  {
   "cell_type": "code",
   "execution_count": null,
   "id": "25b7bd98",
   "metadata": {},
   "outputs": [],
   "source": [
    "def mix():\n",
    "    # ПАРАМЕТРЫ \n",
    "    SRC_IMG_DIR   = \"/home/maksim/develops/python/devsTraining/zala_task/dataset/UNION_dataset/image/test/\"        \n",
    "    SRC_LBL_DIR   = \"/home/maksim/develops/python/devsTraining/zala_task/dataset/UNION_dataset/target/test/\"\n",
    "    OUT_IMG_DIR   = \"dataset/custom_dataset/mix_out/images\"        \n",
    "    OUT_LBL_DIR   = \"dataset/custom_dataset/mix_out/labels\"\n",
    "\n",
    "    IMG_SIZE      = 1024                    # итоговый квадрат\n",
    "    CTX_MARGIN    = 8                       # паддинг вокруг bbox (px)\n",
    "    N_MIN, N_MAX  = 20, 100                 # требуемый диапазон объектов\n",
    "    OVERLAP_IOU   = 0.05                    # макс. IoU между вставками\n",
    "    SKIP_CLASSES  = {0, 2, 3, 4}            # какие классы НЕ переносим\n",
    "    patch_margin = 16                       # отступ от других объектов в пикселях\n",
    "    # SKIP_CLASSES  = {0} \n",
    "\n",
    "    # random.seed(42)\n",
    "\n",
    "    mix_img(SRC_IMG_DIR, SRC_LBL_DIR, OUT_IMG_DIR, OUT_LBL_DIR, img_size=IMG_SIZE, margin=CTX_MARGIN, n_min=N_MIN, n_max=N_MAX, over_iou=OVERLAP_IOU, skip_classes=SKIP_CLASSES, patch_margin=patch_margin)\n",
    "\n",
    "# mix()"
   ]
  },
  {
   "cell_type": "code",
   "execution_count": null,
   "id": "55956f5f",
   "metadata": {},
   "outputs": [],
   "source": [
    "def aug_1():\n",
    "    # Получаем текущую рабочую папку  \n",
    "    current_directory = os.getcwd()  \n",
    "\n",
    "    path_dataset = os.path.join(current_directory, \"dataset\")\n",
    "\n",
    "    dataset = 0\n",
    "\n",
    "    # Пути к датасету\n",
    "    if dataset == 0:\n",
    "        image_1 = 'UNION_dataset/image/train/'   \n",
    "        input_images_dir = os.path.join(path_dataset, image_1)  \n",
    "        labels_1 = 'UNION_dataset/target/train/'  \n",
    "        input_labels_dir = os.path.join(path_dataset, labels_1) \n",
    "\n",
    "\n",
    "        image_2 = 'dataset_mobileNet/dataset_0/images/train/'   \n",
    "        output_images_dir = os.path.join(path_dataset, image_2)  \n",
    "        labels_2 = 'dataset_mobileNet/dataset_0/labels/train/'   \n",
    "        output_labels_dir = os.path.join(path_dataset, labels_2)  \n",
    "\n",
    "\n",
    "    elif dataset == 1:\n",
    "        image_1 = 'UNION_dataset/image/test/'    \n",
    "        input_images_dir = os.path.join(path_dataset, image_1)  \n",
    "        labels_1 = 'UNION_dataset/target/test/'  \n",
    "        input_labels_dir = os.path.join(path_dataset, labels_1) \n",
    "        \n",
    "\n",
    "        image_2 = 'dataset_mobileNet/dataset_0/images/test/'   \n",
    "        output_images_dir = os.path.join(path_dataset, image_2)  \n",
    "        labels_2 = 'dataset_mobileNet/dataset_0/labels/test/'   \n",
    "        output_labels_dir = os.path.join(path_dataset, labels_2)  \n",
    "    elif dataset == 2:\n",
    "        image_1 = 'UNION_dataset/image/test/'    \n",
    "        # image_1 = 'dataset_UAVOD/set/image/test/' \n",
    "        input_images_dir = os.path.join(path_dataset, image_1)  \n",
    "        labels_1 = 'UNION_dataset/target/test/'  \n",
    "        input_labels_dir = os.path.join(path_dataset, labels_1) \n",
    "        \n",
    "\n",
    "        image_2 = 'dataset_mobileNet/dataset_0/images/val/'   \n",
    "        output_images_dir = os.path.join(path_dataset, image_2)  \n",
    "        labels_2 = 'dataset_mobileNet/dataset_0/labels/val/'   \n",
    "        output_labels_dir = os.path.join(path_dataset, labels_2)         \n",
    "\n",
    "\n",
    "    generate_crops_for_dataset(\n",
    "        image_dir=input_images_dir,  \n",
    "        label_dir=input_labels_dir, \n",
    "        output_img_dir=output_images_dir,  \n",
    "        output_lbl_dir=output_labels_dir, \n",
    "        crop_size=1300,         # Размер вырезки\n",
    "        step=150,                # Шаг для сдвигов окна\n",
    "        exclude_classes=[0, 2, 3, 4,]  # Исключенные классы\n",
    "    )\n",
    "\n",
    "# aug_1()"
   ]
  },
  {
   "cell_type": "markdown",
   "id": "f3d711cc",
   "metadata": {},
   "source": [
    "## 2. ДАТАСЕТ DOTA  "
   ]
  },
  {
   "cell_type": "code",
   "execution_count": 9,
   "id": "9c6db33d",
   "metadata": {},
   "outputs": [
    {
     "name": "stdout",
     "output_type": "stream",
     "text": [
      "Классы датасета:\n",
      "Найденные классы в DOTA: {'swimming-pool', 'ground-track-field', 'basketball-court', 'tennis-court', 'roundabout', 'small-vehicle', 'container-crane', 'harbor', 'plane', 'soccer-ball-field', 'bridge', 'helicopter', 'ship', 'storage-tank', 'large-vehicle', 'baseball-diamond'}\n"
     ]
    }
   ],
   "source": [
    "import os\n",
    "import xml.etree.ElementTree as ET\n",
    "import glob\n",
    "\n",
    "# Получаем текущую рабочую папку  \n",
    "current_directory = os.getcwd()  \n",
    "\n",
    "path_dataset = os.path.join(current_directory, \"dataset\")\n",
    "\n",
    " \n",
    "labels_1 = 'dataset_DOTA/original/lables/'  \n",
    "dota_labels_path = os.path.join(path_dataset, labels_1) \n",
    "\n",
    "label_paths = glob.glob(f\"{dota_labels_path}*.txt\")       # путь к аннотациям DOTA\n",
    "class_names = set()\n",
    "\n",
    "for label_path in label_paths:\n",
    "    with open(label_path, \"r\") as file:\n",
    "        lines = file.readlines()\n",
    "    \n",
    "    for line in lines:\n",
    "        parts = line.strip().split()\n",
    "        if len(parts) > 8:                               # Проверяем, есть ли название класса (оно 9-й элемент)\n",
    "            class_name = parts[-2]                       # В DOTA имя класса идет перед difficulty\n",
    "            class_names.add(class_name)\n",
    "\n",
    "print(\"Классы датасета:\")\n",
    "print(\"Найденные классы в DOTA:\", class_names)"
   ]
  },
  {
   "cell_type": "code",
   "execution_count": null,
   "id": "2b95d3b9",
   "metadata": {},
   "outputs": [],
   "source": [
    "image_2 = 'dataset_DOTA/dataset_DOTA/images/'   \n",
    "images_path = os.path.join(path_dataset, image_2)  \n",
    "labels_2 = 'dataset_DOTA/dataset_DOTA/yolo_labels/'   \n",
    "yolo_labels_path = os.path.join(path_dataset, labels_2)  \n",
    "\n",
    "\n",
    "os.makedirs(yolo_labels_path, exist_ok=True)\n",
    "\n",
    "# Словарь классов DOTA  в YOLO \n",
    "dota_classes = {\n",
    "    \"plane\": 0, \"ship\": 1, \"storage-tank\": 2, \"baseball-diamond\": 3, \"tennis-court\": 4,\n",
    "    \"basketball-court\": 5, \"ground-track-field\": 6, \"harbor\": 7, \"bridge\": 8,\n",
    "    \"large-vehicle\": 9, \"small-vehicle\": 10, \"helicopter\": 11, \"roundabout\": 12,\n",
    "    \"soccer-ball-field\": 13, \"swimming-pool\": 14, \"container-crane\": 15\n",
    "}\n",
    "\n",
    "\n",
    "# convert_to_yolo(dota_classes, images_path, dota_labels_path, yolo_labels_path)"
   ]
  },
  {
   "cell_type": "code",
   "execution_count": 13,
   "id": "13a83182",
   "metadata": {},
   "outputs": [
    {
     "name": "stdout",
     "output_type": "stream",
     "text": [
      "Количество объектов по классам:\n",
      "Класс 0: 10450 объектов\n",
      "Класс 1: 43726 объектов\n",
      "Класс 2: 8272 объектов\n",
      "Класс 3: 625 объектов\n",
      "Класс 4: 3188 объектов\n",
      "Класс 5: 672 объектов\n",
      "Класс 6: 476 объектов\n",
      "Класс 7: 8103 объектов\n",
      "Класс 8: 2541 объектов\n",
      "Класс 9: 27312 объектов\n",
      "Класс 10: 169816 объектов\n",
      "Класс 11: 713 объектов\n",
      "Класс 12: 622 объектов\n",
      "Класс 13: 487 объектов\n",
      "Класс 14: 2744 объектов\n",
      "Класс 15: 156 объектов\n"
     ]
    }
   ],
   "source": [
    "input_dir = \"dataset_DOTA/original/yolo_labels/\"\n",
    "path = os.path.join(path_dataset, input_dir)\n",
    "count_objects_by_class(path)"
   ]
  },
  {
   "cell_type": "markdown",
   "id": "3cea4914",
   "metadata": {},
   "source": [
    "### конвертируем в jpeg  и сжимаем изображения"
   ]
  },
  {
   "cell_type": "code",
   "execution_count": null,
   "id": "dcb29551",
   "metadata": {},
   "outputs": [],
   "source": [
    "image = 'dataset_DOTA/dataset_DOTA/images/'   \n",
    "labels = 'dataset_DOTA/dataset_DOTA/yolo_labels/'   \n",
    "image_jpeg = 'dataset_DOTA/dataset_DOTA/images_jpeg/'   \n",
    "\n",
    "# convert_gpg1(path_dataset, image, labels, image_jpeg)"
   ]
  },
  {
   "cell_type": "markdown",
   "id": "9994108d",
   "metadata": {},
   "source": [
    "### изменение разметки датасета DOTA  для датасета UAVOD"
   ]
  },
  {
   "cell_type": "code",
   "execution_count": null,
   "id": "49dcec3c",
   "metadata": {},
   "outputs": [],
   "source": [
    "# ===============    Словарь  классов для переименования\n",
    "    # class_map = {\n",
    "    #     0: 1,\n",
    "    #     1: 7,\n",
    "    #     7: 10,\n",
    "    #     9: 11,\n",
    "    #     10: 8,\n",
    "    #     11: 12\n",
    "    # }\n",
    "\n",
    "# =======================     Классы, которые удаляем \n",
    "# remove_classes = {2, 3, 4, 5, 6, 8, 12, 13, 14, 15}\n",
    "input_dir = \"/dataset_full_3/labels/val/\"\n",
    "# cleaned1(class_map, remove_classes, input_dir, path_dataset)"
   ]
  },
  {
   "cell_type": "code",
   "execution_count": null,
   "id": "86976dd4",
   "metadata": {},
   "outputs": [],
   "source": []
  },
  {
   "cell_type": "code",
   "execution_count": null,
   "id": "e3f130e1",
   "metadata": {},
   "outputs": [],
   "source": []
  },
  {
   "cell_type": "code",
   "execution_count": null,
   "id": "c116604c",
   "metadata": {},
   "outputs": [],
   "source": []
  },
  {
   "cell_type": "code",
   "execution_count": null,
   "id": "dab7c42e",
   "metadata": {},
   "outputs": [],
   "source": []
  },
  {
   "cell_type": "code",
   "execution_count": null,
   "id": "04569e15",
   "metadata": {},
   "outputs": [],
   "source": []
  },
  {
   "cell_type": "code",
   "execution_count": null,
   "id": "f1158ccb",
   "metadata": {},
   "outputs": [],
   "source": []
  },
  {
   "cell_type": "code",
   "execution_count": null,
   "id": "c962436b",
   "metadata": {},
   "outputs": [],
   "source": []
  },
  {
   "cell_type": "code",
   "execution_count": null,
   "id": "025e4db6",
   "metadata": {},
   "outputs": [],
   "source": []
  }
 ],
 "metadata": {
  "kernelspec": {
   "display_name": "rapids-25.02",
   "language": "python",
   "name": "python3"
  },
  "language_info": {
   "codemirror_mode": {
    "name": "ipython",
    "version": 3
   },
   "file_extension": ".py",
   "mimetype": "text/x-python",
   "name": "python",
   "nbconvert_exporter": "python",
   "pygments_lexer": "ipython3",
   "version": "3.12.9"
  }
 },
 "nbformat": 4,
 "nbformat_minor": 5
}
